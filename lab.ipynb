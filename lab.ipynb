{
 "cells": [
  {
   "cell_type": "code",
   "execution_count": 1,
   "id": "ba703763",
   "metadata": {},
   "outputs": [],
   "source": [
    "import pandas as pd\n",
    "\n",
    "df_todos = pd.read_csv(\"src/data/proposicoes.csv\", skiprows=3, sep=\";\", encoding=\"utf-8\")\n",
    "df_hoje = pd.read_csv(\"src/data/proposicoes_hoje.csv\")"
   ]
  },
  {
   "cell_type": "code",
   "execution_count": 2,
   "id": "e5c67a29",
   "metadata": {},
   "outputs": [
    {
     "data": {
      "text/plain": [
       "[{'Proposições': 'PL 5111/2025',\n",
       "  'Ementa': 'Institui o Programa Nacional Movimenta, destinado à promoção da vida ativa, da acessibilidade e da requalificação dos ambientes públicos, comunitários e de trabalho, e dá outras providências.',\n",
       "  'Explicação': nan,\n",
       "  'Autor': 'José Guimarães',\n",
       "  'UF': 'CE',\n",
       "  'Partido': 'PT',\n",
       "  'Apresentação': '13/10/2025',\n",
       "  'Situação': 'Aguardando Indexação',\n",
       "  'Link': 'http://www.camara.leg.br/proposicoesWeb/fichadetramitacao?idProposicao=2570873'},\n",
       " {'Proposições': 'PL 5110/2025',\n",
       "  'Ementa': 'Altera o art. 61 do Decreto-Lei nº 2.848, de 7 de dezembro de 1940 - Código Penal, para prever como agravante penal os crimes dolosos que resultem em lesões, mutilações ou agressões dirigidas a face, pescoço, cabeça, seios e genitália ou que acarrete traumas faciais em crimes de violência contra as mulheres. \\n',\n",
       "  'Explicação': nan,\n",
       "  'Autor': 'Erika Hilton',\n",
       "  'UF': 'SP',\n",
       "  'Partido': 'PSOL',\n",
       "  'Apresentação': '13/10/2025',\n",
       "  'Situação': 'Aguardando Indexação',\n",
       "  'Link': 'http://www.camara.leg.br/proposicoesWeb/fichadetramitacao?idProposicao=2570847'},\n",
       " {'Proposições': 'PL 5109/2025',\n",
       "  'Ementa': 'Institui a Lei Isabella Nardoni – Responsabilidade Comunitária, cria o Protocolo Isabela Nardoni de Proteção à Criança e ao Adolescente na Vizinhança, estabelece obrigações para condomínios, profissionais de condomínios e residências, e lideranças comunitárias, dispõe sobre campanhas de conscientização, e dá outras providências..\\n',\n",
       "  'Explicação': nan,\n",
       "  'Autor': 'Marcelo Álvaro Antônio',\n",
       "  'UF': 'MG',\n",
       "  'Partido': 'PL',\n",
       "  'Apresentação': '13/10/2025',\n",
       "  'Situação': 'Aguardando Indexação',\n",
       "  'Link': 'http://www.camara.leg.br/proposicoesWeb/fichadetramitacao?idProposicao=2570829'},\n",
       " {'Proposições': 'PL 5108/2025',\n",
       "  'Ementa': 'Altera o Decreto-Lei nº 2.848, de 7 de dezembro de 1940 – Código Penal, para aperfeiçoar a tipificação e a responsabilização por adulteração, falsificação ou corrupção de produtos alimentícios e bebidas, estabelecer mecanismos de rastreabilidade e fiscalização tecnológica, e prever excludentes de responsabilidade para o comerciante de boa-fé.',\n",
       "  'Explicação': nan,\n",
       "  'Autor': 'Dimas Gadelha',\n",
       "  'UF': 'RJ',\n",
       "  'Partido': 'PT',\n",
       "  'Apresentação': '13/10/2025',\n",
       "  'Situação': 'Aguardando Indexação',\n",
       "  'Link': 'http://www.camara.leg.br/proposicoesWeb/fichadetramitacao?idProposicao=2570825'},\n",
       " {'Proposições': 'PL 5107/2025',\n",
       "  'Ementa': 'Altera a Lei nº 9.263, de 12 de janeiro de 1996, e a Lei nº 11.664, de 29 de abril de 2008, para assegurar o acesso à criopreservação de óvulos para mulheres em tratamento oncológico com risco de perda da fertilidade, no âmbito do Sistema Único de Saúde.',\n",
       "  'Explicação': nan,\n",
       "  'Autor': 'Renata Abreu',\n",
       "  'UF': 'SP',\n",
       "  'Partido': 'PODE',\n",
       "  'Apresentação': '13/10/2025',\n",
       "  'Situação': 'Aguardando Indexação',\n",
       "  'Link': 'http://www.camara.leg.br/proposicoesWeb/fichadetramitacao?idProposicao=2570819'},\n",
       " {'Proposições': 'PL 5106/2025',\n",
       "  'Ementa': 'Dispõe sobre normas para o diagnóstico precoce e tratamento da Hipertermia Maligna.',\n",
       "  'Explicação': nan,\n",
       "  'Autor': 'Adail Filho',\n",
       "  'UF': 'AM',\n",
       "  'Partido': 'REPUBLIC',\n",
       "  'Apresentação': '13/10/2025',\n",
       "  'Situação': 'Aguardando Indexação',\n",
       "  'Link': 'http://www.camara.leg.br/proposicoesWeb/fichadetramitacao?idProposicao=2570814'},\n",
       " {'Proposições': 'PL 5105/2025',\n",
       "  'Ementa': 'Altera a Lei nº 9.394, de 20 de dezembro de 1996, para assegurar a continuidade do aleitamento materno às crianças de 0 a 36 meses matriculadas em creches ou entidades equivalentes.',\n",
       "  'Explicação': nan,\n",
       "  'Autor': 'Talíria Petrone',\n",
       "  'UF': 'RJ',\n",
       "  'Partido': 'PSOL',\n",
       "  'Apresentação': '13/10/2025',\n",
       "  'Situação': 'Aguardando Indexação',\n",
       "  'Link': 'http://www.camara.leg.br/proposicoesWeb/fichadetramitacao?idProposicao=2570811'},\n",
       " {'Proposições': 'PL 5104/2025',\n",
       "  'Ementa': 'Denomina “Passarela Durval Savi” a passarela localizada sobre a BR-116, em São Leopoldo, no Estado do Rio Grande do Sul.  ',\n",
       "  'Explicação': nan,\n",
       "  'Autor': 'Pompeo de Mattos',\n",
       "  'UF': 'RS',\n",
       "  'Partido': 'PDT',\n",
       "  'Apresentação': '13/10/2025',\n",
       "  'Situação': 'Aguardando Encaminhamento',\n",
       "  'Link': 'http://www.camara.leg.br/proposicoesWeb/fichadetramitacao?idProposicao=2570721'},\n",
       " {'Proposições': 'PL 5098/2025',\n",
       "  'Ementa': 'Altera a Lei nº 12.305, de 2 de agosto de 2010, para dispor sobre o gerenciamento de resíduos gerados em eventos.',\n",
       "  'Explicação': nan,\n",
       "  'Autor': 'Flávia Morais',\n",
       "  'UF': 'GO',\n",
       "  'Partido': 'PDT',\n",
       "  'Apresentação': '13/10/2025',\n",
       "  'Situação': 'Aguardando Encaminhamento',\n",
       "  'Link': 'http://www.camara.leg.br/proposicoesWeb/fichadetramitacao?idProposicao=2570707'},\n",
       " {'Proposições': 'PL 5097/2025',\n",
       "  'Ementa': 'Altera o art. 171 do Código Penal para prevê causa especial de aumento de pena quando o crime de estelionato for praticado em detrimento da função jurisdicional ou contra os sujeitos que a integram (advogado, juiz e promotor de justiça).',\n",
       "  'Explicação': nan,\n",
       "  'Autor': 'Dimas Fabiano',\n",
       "  'UF': 'MG',\n",
       "  'Partido': 'PP',\n",
       "  'Apresentação': '13/10/2025',\n",
       "  'Situação': 'Aguardando Encaminhamento',\n",
       "  'Link': 'http://www.camara.leg.br/proposicoesWeb/fichadetramitacao?idProposicao=2570673'},\n",
       " {'Proposições': 'PL 5096/2025',\n",
       "  'Ementa': 'Altera os arts. 50 e 1691 da Lei n° 10.406, de 2002, Código Civil, de modo a equilibrar o princípio da proteção integral da criança e do adolescente com a possibilidade de menores serem sócios de empresas. ',\n",
       "  'Explicação': nan,\n",
       "  'Autor': 'Merlong Solano',\n",
       "  'UF': 'PI',\n",
       "  'Partido': 'PT',\n",
       "  'Apresentação': '13/10/2025',\n",
       "  'Situação': 'Aguardando Encaminhamento',\n",
       "  'Link': 'http://www.camara.leg.br/proposicoesWeb/fichadetramitacao?idProposicao=2570672'}]"
      ]
     },
     "execution_count": 2,
     "metadata": {},
     "output_type": "execute_result"
    }
   ],
   "source": [
    "df_hoje.to_dict(orient=\"records\")"
   ]
  },
  {
   "cell_type": "code",
   "execution_count": 8,
   "id": "a786ed27",
   "metadata": {},
   "outputs": [
    {
     "data": {
      "text/plain": [
       "Situação\n",
       "Aguardando Designação de Relator(a)                                                    1453\n",
       "Aguardando Parecer                                                                     1338\n",
       "Tramitando em Conjunto                                                                  680\n",
       "Aguardando Autorização do Despacho                                                      426\n",
       "Pronta para Pauta                                                                       290\n",
       "Aguardando Despacho do Presidente da Câmara dos Deputados (Chancela)                    123\n",
       "Aguardando Deliberação                                                                   93\n",
       "Retirado pelo(a) Autor(a)                                                                81\n",
       "Aguardando Chancela e Publicação do Despacho                                             81\n",
       "Aguardando Despacho do Presidente da Câmara dos Deputados (Autorização)                  77\n",
       "Aguardando Despacho do Presidente da Câmara dos Deputados                                73\n",
       "Arquivada                                                                                70\n",
       "Aguardando Análise                                                                       68\n",
       "Aguardando Despacho do Presidente da Câmara dos Deputados (Análise)                      39\n",
       "Aguardando Encaminhamento                                                                26\n",
       "Transformado em Norma Jurídica                                                           17\n",
       "Aguardando Designação - Aguardando Devolução de Relator(a) que deixou de ser Membro      17\n",
       "Aguardando Recebimento                                                                   11\n",
       "Aguardando Apreciação pelo Senado Federal                                                11\n",
       "Aguardando Indexação                                                                     10\n",
       "Aguardando Vistas                                                                         6\n",
       "Aguardando Recurso                                                                        3\n",
       "Aguardando Análise de Parecer                                                             2\n",
       "Transformado em nova proposição                                                           2\n",
       "Aguardando Providências Internas                                                          2\n",
       "Aguardando Deliberação de Recurso                                                         1\n",
       "Name: count, dtype: int64"
      ]
     },
     "execution_count": 8,
     "metadata": {},
     "output_type": "execute_result"
    }
   ],
   "source": [
    "df_todos['Situação'].value_counts()"
   ]
  },
  {
   "cell_type": "code",
   "execution_count": 14,
   "id": "f3338c2d",
   "metadata": {},
   "outputs": [
    {
     "data": {
      "text/plain": [
       "True"
      ]
     },
     "execution_count": 14,
     "metadata": {},
     "output_type": "execute_result"
    }
   ],
   "source": [
    "len(df_todos['Proposições'].unique()) == len(df_todos)"
   ]
  }
 ],
 "metadata": {
  "kernelspec": {
   "display_name": "Python 3",
   "language": "python",
   "name": "python3"
  },
  "language_info": {
   "codemirror_mode": {
    "name": "ipython",
    "version": 3
   },
   "file_extension": ".py",
   "mimetype": "text/x-python",
   "name": "python",
   "nbconvert_exporter": "python",
   "pygments_lexer": "ipython3",
   "version": "3.10.12"
  }
 },
 "nbformat": 4,
 "nbformat_minor": 5
}
